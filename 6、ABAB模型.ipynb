{
 "cells": [
  {
   "cell_type": "markdown",
   "id": "98b299d1",
   "metadata": {},
   "source": [
    "# LCE"
   ]
  },
  {
   "cell_type": "code",
   "execution_count": 1,
   "id": "a202dee5",
   "metadata": {},
   "outputs": [
    {
     "name": "stdout",
     "output_type": "stream",
     "text": [
      "Accuracy: 97.4%\n"
     ]
    }
   ],
   "source": [
    "from lce import LCEClassifier\n",
    "from sklearn.datasets import load_iris\n",
    "from sklearn.metrics import accuracy_score\n",
    "from sklearn.model_selection import train_test_split\n",
    "\n",
    "\n",
    "# Load data and generate a train/test split\n",
    "data = load_iris()\n",
    "X_train, X_test, y_train, y_test = train_test_split(data.data, data.target, random_state=0)\n",
    "\n",
    "# Train LCEClassifier with default parameters\n",
    "clf = LCEClassifier(n_jobs=-1, random_state=0)\n",
    "clf.fit(X_train, y_train)\n",
    "\n",
    "# Make prediction and compute accuracy score\n",
    "y_pred = clf.predict(X_test)\n",
    "accuracy = accuracy_score(y_test, y_pred)\n",
    "print(\"Accuracy: {:.1f}%\".format(accuracy*100))"
   ]
  },
  {
   "cell_type": "markdown",
   "id": "62635307",
   "metadata": {},
   "source": [
    "# PGBM(本地project做也行)"
   ]
  },
  {
   "cell_type": "code",
   "execution_count": 2,
   "id": "d40cfc94",
   "metadata": {},
   "outputs": [
    {
     "ename": "ModuleNotFoundError",
     "evalue": "No module named 'pgbm'",
     "output_type": "error",
     "traceback": [
      "\u001b[1;31m---------------------------------------------------------------------------\u001b[0m",
      "\u001b[1;31mModuleNotFoundError\u001b[0m                       Traceback (most recent call last)",
      "Cell \u001b[1;32mIn[2], line 1\u001b[0m\n\u001b[1;32m----> 1\u001b[0m \u001b[38;5;28;01mfrom\u001b[39;00m \u001b[38;5;21;01mpgbm\u001b[39;00m\u001b[38;5;21;01m.\u001b[39;00m\u001b[38;5;21;01msklearn\u001b[39;00m \u001b[38;5;28;01mimport\u001b[39;00m HistGradientBoostingRegressor\n\u001b[0;32m      2\u001b[0m \u001b[38;5;28;01mfrom\u001b[39;00m \u001b[38;5;21;01msklearn\u001b[39;00m\u001b[38;5;21;01m.\u001b[39;00m\u001b[38;5;21;01mmodel_selection\u001b[39;00m \u001b[38;5;28;01mimport\u001b[39;00m train_test_split\n\u001b[0;32m      3\u001b[0m \u001b[38;5;28;01mfrom\u001b[39;00m \u001b[38;5;21;01msklearn\u001b[39;00m\u001b[38;5;21;01m.\u001b[39;00m\u001b[38;5;21;01mdatasets\u001b[39;00m \u001b[38;5;28;01mimport\u001b[39;00m fetch_california_housing\n",
      "\u001b[1;31mModuleNotFoundError\u001b[0m: No module named 'pgbm'"
     ]
    }
   ],
   "source": [
    "from pgbm.sklearn import HistGradientBoostingRegressor\n",
    "from sklearn.model_selection import train_test_split\n",
    "from sklearn.datasets import fetch_california_housing\n",
    "X, y = fetch_california_housing(return_X_y=True)\n",
    "X_train, X_test, y_train, y_test = train_test_split(X, y, test_size=0.1)\n",
    "model = HistGradientBoostingRegressor().fit(X_train, y_train) \n",
    "yhat_test, yhat_test_std = model.predict(X_test, return_std=True)\n",
    "yhat_dist = model.sample(yhat_test, yhat_test_std, n_estimates=1000)"
   ]
  },
  {
   "cell_type": "code",
   "execution_count": null,
   "id": "c7f11f2c",
   "metadata": {},
   "outputs": [],
   "source": []
  },
  {
   "cell_type": "code",
   "execution_count": null,
   "id": "5256cc1c",
   "metadata": {},
   "outputs": [],
   "source": []
  },
  {
   "cell_type": "code",
   "execution_count": null,
   "id": "50b67d8d",
   "metadata": {},
   "outputs": [],
   "source": []
  },
  {
   "cell_type": "code",
   "execution_count": null,
   "id": "b3cdfc0a",
   "metadata": {},
   "outputs": [],
   "source": []
  },
  {
   "cell_type": "code",
   "execution_count": null,
   "id": "70d1e422",
   "metadata": {},
   "outputs": [],
   "source": []
  },
  {
   "cell_type": "code",
   "execution_count": null,
   "id": "2f7d8b3b",
   "metadata": {},
   "outputs": [],
   "source": []
  },
  {
   "cell_type": "code",
   "execution_count": null,
   "id": "dc814371",
   "metadata": {},
   "outputs": [],
   "source": []
  },
  {
   "cell_type": "code",
   "execution_count": null,
   "id": "eefb6877",
   "metadata": {},
   "outputs": [],
   "source": []
  },
  {
   "cell_type": "markdown",
   "id": "bef7fc49",
   "metadata": {},
   "source": [
    "# scikit_obliquetree"
   ]
  },
  {
   "cell_type": "code",
   "execution_count": 2,
   "id": "143c8ee3",
   "metadata": {},
   "outputs": [],
   "source": [
    "\n",
    "from sklearn.ensemble import BaggingRegressor\n",
    "from sklearn.model_selection import cross_val_score\n",
    "\n",
    "from scikit_obliquetree.HHCART import HouseHolderCART\n",
    "from scikit_obliquetree.segmentor import MSE, MeanSegmentor\n"
   ]
  },
  {
   "cell_type": "code",
   "execution_count": 3,
   "id": "c608df52",
   "metadata": {},
   "outputs": [
    {
     "name": "stdout",
     "output_type": "stream",
     "text": [
      "CV Score [ 0.6841347   0.81646544  0.79149047  0.4900638  -0.06652007]\n"
     ]
    }
   ],
   "source": [
    "\n",
    "import pandas as pd\n",
    "import numpy as np\n",
    "\n",
    "data_url = \"http://lib.stat.cmu.edu/datasets/boston\"\n",
    "raw_df = pd.read_csv(data_url, sep=\"\\s+\", skiprows=22, header=None)\n",
    "\n",
    "X = np.hstack([raw_df.values[::2, :], raw_df.values[1::2, :2]])\n",
    "y = raw_df.values[1::2, 2]\n",
    "\n",
    "reg = BaggingRegressor(\n",
    "    HouseHolderCART(MSE(), MeanSegmentor(), max_depth=3),\n",
    "    n_estimators=100,\n",
    "    n_jobs=-1,\n",
    ")\n",
    "print('CV Score', cross_val_score(reg, X, y))"
   ]
  },
  {
   "cell_type": "markdown",
   "id": "09dac033",
   "metadata": {},
   "source": [
    "# stree"
   ]
  },
  {
   "cell_type": "code",
   "execution_count": 4,
   "id": "e3398da1",
   "metadata": {},
   "outputs": [
    {
     "name": "stdout",
     "output_type": "stream",
     "text": [
      "Predicting with max_features=sqrt(n_features)\n",
      "Took 0.02 seconds to train\n",
      "root feaures=(2, 3) impurity=0.9976 counts=(array([0, 1, 2], dtype=int64), array([39, 37, 44], dtype=int64))\n",
      "root - Down(2), <cgaf> - Leaf class=2 belief= 0.955556 impurity=0.2623 counts=(array([1, 2], dtype=int64), array([ 2, 43], dtype=int64))\n",
      "root - Up(2) feaures=(0, 1) impurity=0.6857 counts=(array([0, 1, 2], dtype=int64), array([39, 35,  1], dtype=int64))\n",
      "root - Up(2) - Down(3), <cgaf> - Leaf class=1 belief= 0.972222 impurity=0.1831 counts=(array([1, 2], dtype=int64), array([35,  1], dtype=int64))\n",
      "root - Up(2) - Up(3), <pure> - Leaf class=0 belief= 1.000000 impurity=0.0000 counts=(array([0], dtype=int64), array([39], dtype=int64))\n",
      "\n",
      "Classifier's accuracy (train): 0.9750\n",
      "Classifier's accuracy (test) : 0.9667\n",
      "========================================\n",
      "Predicting with max_features=n_features\n",
      "Took 0.03 seconds to train\n",
      "root feaures=(0, 1, 2, 3) impurity=0.9976 counts=(array([0, 1, 2], dtype=int64), array([39, 37, 44], dtype=int64))\n",
      "root - Down(2) feaures=(0, 1, 2, 3) impurity=0.9946 counts=(array([1, 2], dtype=int64), array([37, 44], dtype=int64))\n",
      "root - Down(2) - Down(3), <pure> - Leaf class=1 belief= 1.000000 impurity=0.0000 counts=(array([1], dtype=int64), array([35], dtype=int64))\n",
      "root - Down(2) - Up(3), <cgaf> - Leaf class=2 belief= 0.956522 impurity=0.2580 counts=(array([1, 2], dtype=int64), array([ 2, 44], dtype=int64))\n",
      "root - Up(2), <pure> - Leaf class=0 belief= 1.000000 impurity=0.0000 counts=(array([0], dtype=int64), array([39], dtype=int64))\n",
      "\n",
      "Classifier's accuracy (train): 0.9833\n",
      "Classifier's accuracy (test) : 1.0000\n"
     ]
    }
   ],
   "source": [
    "import time\n",
    "from sklearn.model_selection import train_test_split\n",
    "from sklearn.datasets import load_iris\n",
    "from stree import Stree\n",
    "\n",
    "random_state = 1\n",
    "X, y = load_iris(return_X_y=True)\n",
    "Xtrain, Xtest, ytrain, ytest = train_test_split(\n",
    "    X, y, test_size=0.2, random_state=random_state\n",
    ")\n",
    "now = time.time()\n",
    "print(\"Predicting with max_features=sqrt(n_features)\")\n",
    "clf = Stree(random_state=random_state, max_features=\"auto\")\n",
    "clf.fit(Xtrain, ytrain)\n",
    "print(f\"Took {time.time() - now:.2f} seconds to train\")\n",
    "print(clf)\n",
    "print(f\"Classifier's accuracy (train): {clf.score(Xtrain, ytrain):.4f}\")\n",
    "print(f\"Classifier's accuracy (test) : {clf.score(Xtest, ytest):.4f}\")\n",
    "print(\"=\" * 40)\n",
    "print(\"Predicting with max_features=n_features\")\n",
    "clf = Stree(random_state=random_state)\n",
    "clf.fit(Xtrain, ytrain)\n",
    "print(f\"Took {time.time() - now:.2f} seconds to train\")\n",
    "print(clf)\n",
    "print(f\"Classifier's accuracy (train): {clf.score(Xtrain, ytrain):.4f}\")\n",
    "print(f\"Classifier's accuracy (test) : {clf.score(Xtest, ytest):.4f}\")"
   ]
  },
  {
   "cell_type": "code",
   "execution_count": null,
   "id": "2549f566",
   "metadata": {},
   "outputs": [],
   "source": []
  },
  {
   "cell_type": "markdown",
   "id": "793a72c6",
   "metadata": {},
   "source": [
    "#  SLSDT"
   ]
  },
  {
   "cell_type": "code",
   "execution_count": 6,
   "id": "dae93b9b",
   "metadata": {},
   "outputs": [
    {
     "name": "stdout",
     "output_type": "stream",
     "text": [
      "Accuracy: 0.98\n"
     ]
    }
   ],
   "source": [
    "from sklearn.datasets import load_iris\n",
    "\n",
    "X, y = load_iris(return_X_y=True)\n",
    "\n",
    "from slsdt.slsdt import SLSDT\n",
    "\n",
    "\n",
    "# split train and test data\n",
    "\n",
    "X_train, X_test, y_train, y_test = train_test_split(X, y, test_size=0.33, random_state=42)\n",
    "\n",
    "clf = SLSDT()\n",
    "\n",
    "clf.fit(X_train, y_train)\n",
    "\n",
    "results = clf.predict(X_test)\n",
    "\n",
    "print(f\"Accuracy: {sum(results == y_test) / len(y_test)}\")\n",
    "\n",
    "\n"
   ]
  },
  {
   "cell_type": "code",
   "execution_count": 7,
   "id": "ea7024a4",
   "metadata": {},
   "outputs": [
    {
     "name": "stdout",
     "output_type": "stream",
     "text": [
      " Weights: [ 1.76737913 -1.10653544 -5.88734548]\n",
      "  Predict: [ 0. 50.]\n",
      "  Predict: [50.  0.]\n",
      "[0. 0. 0. 0. 0. 0. 0. 0. 0. 0. 0. 0. 0. 0. 0. 0. 0. 0. 0. 0. 0. 0. 0. 0.\n",
      " 0. 0. 0. 0. 0. 0. 0. 0. 0. 0. 0. 0. 0. 0. 0. 0. 0. 0. 0. 0. 0. 0. 0. 0.\n",
      " 0. 0. 1. 1. 1. 1. 1. 1. 1. 1. 1. 1. 1. 1. 1. 1. 1. 1. 1. 1. 1. 1. 1. 1.\n",
      " 1. 1. 1. 1. 1. 1. 1. 1. 1. 1. 1. 1. 1. 1. 1. 1. 1. 1. 1. 1. 1. 1. 1. 1.\n",
      " 1. 1. 1. 1.]\n",
      "[ True  True  True  True  True  True  True  True  True  True  True  True\n",
      "  True  True  True  True  True  True  True  True  True  True  True  True\n",
      "  True  True  True  True  True  True  True  True  True  True  True  True\n",
      "  True  True  True  True  True  True  True  True  True  True  True  True\n",
      "  True  True  True  True  True  True  True  True  True  True  True  True\n",
      "  True  True  True  True  True  True  True  True  True  True  True  True\n",
      "  True  True  True  True  True  True  True  True  True  True  True  True\n",
      "  True  True  True  True  True  True  True  True  True  True  True  True\n",
      "  True  True  True  True]\n"
     ]
    }
   ],
   "source": [
    "from sklearn import datasets\n",
    "from slsdt.slsdt import SLSDT\n",
    "\n",
    "iris = datasets.load_iris()\n",
    "\n",
    "X = iris.data[:, :2] # we only take the sepal width and sepal length features.\n",
    "y = iris.target\n",
    "\n",
    "mark = y != 2\n",
    "\n",
    "# we only take the 0 (Iris-setosa) and 1 (Iris-versicolor) class labels\n",
    "X = X[mark]\n",
    "y = y[mark]\n",
    "\n",
    "clf = SLSDT()\n",
    "\n",
    "clf.fit(X, y)\n",
    "\n",
    "clf.print_tree()\n",
    "\n",
    "result = clf.predict(X)\n",
    "\n",
    "print(result)\n",
    "print(result == y)"
   ]
  },
  {
   "cell_type": "code",
   "execution_count": null,
   "id": "8c6b7c78",
   "metadata": {},
   "outputs": [],
   "source": []
  },
  {
   "cell_type": "code",
   "execution_count": null,
   "id": "7eb1f164",
   "metadata": {},
   "outputs": [],
   "source": []
  },
  {
   "cell_type": "code",
   "execution_count": null,
   "id": "11e30c2e",
   "metadata": {},
   "outputs": [],
   "source": []
  },
  {
   "cell_type": "code",
   "execution_count": null,
   "id": "cf3de338",
   "metadata": {},
   "outputs": [],
   "source": []
  }
 ],
 "metadata": {
  "kernelspec": {
   "display_name": "lce",
   "language": "python",
   "name": "lce"
  },
  "language_info": {
   "codemirror_mode": {
    "name": "ipython",
    "version": 3
   },
   "file_extension": ".py",
   "mimetype": "text/x-python",
   "name": "python",
   "nbconvert_exporter": "python",
   "pygments_lexer": "ipython3",
   "version": "3.9.0"
  }
 },
 "nbformat": 4,
 "nbformat_minor": 5
}
